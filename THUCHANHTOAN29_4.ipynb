{
  "nbformat": 4,
  "nbformat_minor": 0,
  "metadata": {
    "colab": {
      "name": "THUCHANHTOAN29/4.ipynb",
      "provenance": [],
      "authorship_tag": "ABX9TyMrZq6p6w2o8sT5g2X93ARc",
      "include_colab_link": true
    },
    "kernelspec": {
      "name": "python3",
      "display_name": "Python 3"
    },
    "language_info": {
      "name": "python"
    }
  },
  "cells": [
    {
      "cell_type": "markdown",
      "metadata": {
        "id": "view-in-github",
        "colab_type": "text"
      },
      "source": [
        "<a href=\"https://colab.research.google.com/github/tantai17132002/maths/blob/main/THUCHANHTOAN29_4.ipynb\" target=\"_parent\"><img src=\"https://colab.research.google.com/assets/colab-badge.svg\" alt=\"Open In Colab\"/></a>"
      ]
    },
    {
      "cell_type": "code",
      "metadata": {
        "colab": {
          "base_uri": "https://localhost:8080/"
        },
        "id": "DR-nl5k7Kij7",
        "outputId": "d801a2d2-992a-4abf-e125-d804ff3e0319"
      },
      "source": [
        "import numpy as np\n",
        "from scipy import stats\n",
        "import seaborn as sns\n",
        "import statsmodels.api as sm\n",
        "\n",
        "data = np.random.normal(0,1,1000)\n",
        "data"
      ],
      "execution_count": 34,
      "outputs": [
        {
          "output_type": "stream",
          "text": [
            "/usr/local/lib/python3.7/dist-packages/statsmodels/tools/_testing.py:19: FutureWarning: pandas.util.testing is deprecated. Use the functions in the public API at pandas.testing instead.\n",
            "  import pandas.util.testing as tm\n"
          ],
          "name": "stderr"
        },
        {
          "output_type": "execute_result",
          "data": {
            "text/plain": [
              "array([-1.03089028e+00,  2.14176385e+00, -8.90084728e-01, -6.57016382e-02,\n",
              "        8.90674762e-01,  3.68372216e-02,  2.08414913e-01,  1.02387730e-01,\n",
              "       -1.32766165e+00, -1.13266724e+00, -1.55156633e+00, -1.64611242e+00,\n",
              "        6.07787042e-01,  9.10811914e-01,  9.59773617e-01,  1.68414630e+00,\n",
              "        1.60424280e+00,  5.26776480e-01,  4.69874350e-03, -8.53541193e-01,\n",
              "        1.06701108e+00,  4.55230329e-01,  1.50996033e+00, -3.21268975e-01,\n",
              "        2.99128018e-01,  3.08134456e-01, -9.48483523e-01,  1.01538388e+00,\n",
              "        4.48614706e-02,  7.59231107e-01, -1.07935389e+00,  4.86410404e-01,\n",
              "       -1.33122873e+00,  1.69416164e-01, -1.30291589e+00, -3.97072400e-01,\n",
              "       -2.23919567e+00,  1.04024750e+00, -7.23355929e-01,  1.81342878e+00,\n",
              "        1.79205038e+00,  6.93940506e-01,  1.02972222e+00,  4.09844276e-01,\n",
              "        3.35194094e-01, -7.59697103e-01, -3.66674714e-01,  1.97548602e+00,\n",
              "        1.89744676e+00, -4.28185530e-02, -5.67217073e-01,  1.01006072e+00,\n",
              "       -3.94954808e-01, -1.80930568e+00, -9.47061878e-01, -2.33504200e-01,\n",
              "       -5.09370085e-02,  1.15440401e+00,  3.27922413e-01, -9.13910139e-01,\n",
              "       -1.92042957e+00, -1.22434706e+00,  1.82592649e+00, -7.18541928e-01,\n",
              "        9.83350932e-01, -9.05109057e-01, -1.36569639e+00,  1.25481736e+00,\n",
              "        5.41358941e-01, -6.17417918e-01,  8.11631749e-01, -1.17327556e+00,\n",
              "        8.64494820e-01,  1.01082976e+00,  1.32306782e+00,  9.46288868e-01,\n",
              "        1.16378485e+00,  1.34070380e+00, -2.10517357e-01,  4.17145169e-01,\n",
              "       -2.11192375e-01,  1.89509855e+00,  2.38833477e-01, -4.38431559e-01,\n",
              "       -3.98198692e-02, -1.08833522e+00, -6.98737281e-01,  5.08917959e-01,\n",
              "       -4.35648545e-01,  5.80987519e-01, -3.83680349e-01,  6.03364415e-01,\n",
              "        2.84620772e-01, -1.10599001e+00,  7.00502995e-01,  7.41167889e-01,\n",
              "       -2.92180148e-02, -8.14586495e-01, -8.79115804e-01,  1.60841812e+00,\n",
              "        7.45777027e-01, -1.35091628e+00,  1.60024897e-01,  3.81602627e-01,\n",
              "        1.23092228e+00,  1.03482939e+00, -1.11345542e-01, -1.27922981e+00,\n",
              "        3.41372047e-01, -3.65943593e-01,  1.66186845e-02,  3.59826880e-01,\n",
              "       -8.51234007e-01,  1.52233430e+00, -7.23078156e-01,  7.50293771e-01,\n",
              "        1.09281339e-01,  8.90056898e-02, -5.59073791e-01,  6.99281829e-01,\n",
              "        1.44656778e+00,  7.04709897e-01,  1.81714503e-03, -1.59865855e+00,\n",
              "        2.49545568e-01,  3.06696748e-02,  2.83461266e-01, -8.51090588e-01,\n",
              "       -2.20105584e+00, -1.25813115e-01, -3.20833343e-02,  9.56753469e-01,\n",
              "       -1.21708618e-01,  1.56373811e+00, -2.49973731e-01, -1.03585609e+00,\n",
              "       -1.66488057e+00, -4.12428201e-01,  2.77074071e-01, -5.96344034e-01,\n",
              "        4.22324151e-01, -8.39839848e-01,  9.16921052e-01,  1.47616646e+00,\n",
              "       -1.10711331e+00, -1.67129588e+00, -1.25165144e+00, -3.10462166e-01,\n",
              "       -4.40518055e-02,  6.80298996e-01,  6.44798504e-01,  8.78341791e-01,\n",
              "       -1.17166076e+00,  8.20451038e-01,  1.42130383e-01, -1.28138359e-01,\n",
              "       -4.96254428e-01,  9.13671770e-02,  5.78248511e-02,  1.91370147e-01,\n",
              "       -4.44523047e-01,  8.26496874e-01, -6.86370382e-01, -3.87715337e-01,\n",
              "       -1.04071720e+00, -4.40729842e-02,  8.38973329e-01, -8.51266807e-01,\n",
              "       -8.74599420e-01,  8.08829126e-01, -4.59150395e-01,  1.11152416e+00,\n",
              "       -1.70145833e-01, -1.90195594e+00,  1.58215889e+00,  1.02272287e+00,\n",
              "        1.26055043e-01,  3.97002678e-01, -4.95818723e-01, -3.73117627e-01,\n",
              "        3.41706552e+00,  3.31264717e-01, -5.88240938e-01, -1.20716866e+00,\n",
              "        2.51214547e-01,  6.03190820e-01,  6.05884979e-01,  7.15188165e-01,\n",
              "       -1.31876147e+00, -4.87354688e-01, -2.31561385e-01, -1.47969556e-01,\n",
              "       -7.10542548e-01, -2.44133754e-01, -8.76459031e-01,  6.38243109e-01,\n",
              "       -2.14899806e-01,  1.29724788e+00,  9.63109036e-01,  3.08714335e-01,\n",
              "       -3.40576043e-02, -9.62201768e-01,  2.84812423e-01, -4.18189868e-01,\n",
              "        7.30139858e-01,  3.46832338e-01,  4.67809326e-03, -7.95840600e-02,\n",
              "       -1.93788905e+00,  1.15838617e+00, -5.08825307e-01, -2.03977247e+00,\n",
              "       -1.34321597e-01,  1.92064098e+00, -1.56581095e+00, -5.46374661e-01,\n",
              "       -6.66276033e-01,  3.83759423e-01,  9.69708626e-01, -9.67704677e-01,\n",
              "       -1.11442946e+00,  1.04450416e+00,  6.46387036e-01, -3.92780256e-01,\n",
              "       -3.88168231e-01,  5.66123722e-02, -6.66616310e-01, -4.55718916e-01,\n",
              "       -1.42426227e-01,  7.09678494e-01,  1.15342974e+00,  2.15066319e+00,\n",
              "        1.38579216e+00, -9.28358146e-01,  3.73601700e-01,  1.59718194e+00,\n",
              "       -2.31991975e-01,  7.57552663e-01,  7.51266099e-02, -9.84950512e-01,\n",
              "        5.95213083e-02, -2.43869218e+00, -6.80023770e-01,  1.34191232e+00,\n",
              "       -1.15422101e+00,  1.18775548e+00,  7.44048999e-01, -1.33087571e+00,\n",
              "       -8.74663314e-01, -8.42220694e-01, -1.01634310e+00, -1.53337919e+00,\n",
              "        1.31072271e+00,  7.02171673e-01,  6.36076586e-01,  7.83744711e-02,\n",
              "       -2.70554539e-01, -4.79253588e-01, -1.00326559e+00,  5.72331561e-01,\n",
              "        1.90575607e+00, -8.87816376e-01, -8.51172575e-01, -9.30750859e-02,\n",
              "        7.06540189e-01, -5.40571522e-01, -1.94472480e-01, -1.30638724e+00,\n",
              "        1.42781227e+00,  5.64727121e-01, -6.38418044e-01,  7.25048185e-02,\n",
              "        1.16373867e+00, -6.51594222e-01, -1.64255687e+00,  2.01697434e-01,\n",
              "       -3.01843669e-01, -3.15615640e-01, -9.22213876e-01,  1.51954654e+00,\n",
              "        8.70028126e-01, -1.42549501e-01,  3.02958671e-01,  2.36831644e+00,\n",
              "        1.30672260e+00,  5.80025382e-01, -1.70195956e-01, -1.54441012e-01,\n",
              "       -1.29731563e+00,  4.47928964e-01,  1.06979432e+00, -1.25541049e+00,\n",
              "       -1.29610505e-01,  5.78739285e-02,  1.90321711e-01, -3.36864101e-01,\n",
              "        1.56825549e+00,  3.02032035e-01,  1.51210407e-01, -4.42300679e-01,\n",
              "       -1.99856089e+00,  1.65597153e+00,  9.79572554e-01,  7.59539650e-01,\n",
              "       -5.13171800e-01, -1.12283211e+00, -9.56957799e-01,  6.81629055e-01,\n",
              "        6.52583456e-01, -1.97024320e-01,  1.50942156e+00,  5.79372513e-01,\n",
              "        7.99899526e-01,  1.04929443e+00,  5.65398220e-01, -8.18630788e-01,\n",
              "       -1.87627082e-01, -1.62742037e+00, -1.57179346e-01, -6.30278363e-01,\n",
              "        8.27171343e-01,  3.32938173e-01,  5.57917827e-01, -5.13297749e-01,\n",
              "       -1.03990617e+00, -5.76933197e-01,  3.65781117e-01,  1.78724366e+00,\n",
              "       -3.50774906e+00,  1.59805035e+00,  7.46808614e-01, -5.42850897e-02,\n",
              "        1.22524249e+00, -3.10570988e-01,  1.09457844e+00,  1.86152567e-02,\n",
              "        8.78955217e-01,  7.82688315e-02,  1.18569437e-01,  1.20345104e-01,\n",
              "        6.23748894e-01, -6.00664077e-01, -4.46281742e-01, -1.15499432e+00,\n",
              "       -6.93039327e-01, -5.61462716e-01,  1.08378508e+00,  5.03787750e-01,\n",
              "        1.72418403e+00,  2.05278711e+00,  5.40390814e-01, -1.54838202e+00,\n",
              "        3.24727708e-01, -1.63009282e+00, -3.55280916e-01, -5.89134894e-01,\n",
              "       -1.30112872e+00, -2.54586521e-02, -4.90422661e-01, -7.79110577e-01,\n",
              "        1.53496654e+00,  2.27556917e-01,  2.02854231e-01,  9.39346554e-01,\n",
              "        6.32078181e-01, -3.04510545e-01,  6.86906121e-01, -5.02137239e-01,\n",
              "        8.01092115e-01,  2.50304371e-01,  1.36858684e+00,  1.56519333e+00,\n",
              "       -1.23123978e+00, -7.68321798e-01,  3.55569305e-01,  6.23102265e-01,\n",
              "        1.36142630e+00,  2.00656166e+00, -3.92622909e-01, -9.64081359e-01,\n",
              "        1.20809790e+00,  8.76738912e-01, -1.27633915e-02,  3.89816092e-01,\n",
              "       -1.01033286e+00,  4.09183899e-01,  2.49991611e+00, -9.12677683e-01,\n",
              "       -5.01256636e-01,  4.48743431e-03, -1.41617634e-01, -9.23901430e-02,\n",
              "        1.12808952e-02, -1.67059715e-01, -7.74890080e-01,  3.70669310e-01,\n",
              "        5.77798435e-01, -2.89781008e-01, -4.82138974e-01, -1.09604466e+00,\n",
              "        5.34316347e-01, -1.06396070e+00, -1.53351383e+00,  1.13462990e+00,\n",
              "       -5.52939528e-01, -6.80807130e-01, -6.05629186e-01, -4.89925071e-01,\n",
              "       -1.37348238e+00,  9.41738130e-01,  2.64852415e-01, -5.72828413e-01,\n",
              "        1.33709080e+00, -3.81820311e-01, -8.53557671e-01, -6.54307381e-01,\n",
              "        1.85730340e+00,  8.97203835e-02, -1.66984515e-01, -6.42810961e-02,\n",
              "       -5.11383440e-01,  4.62889387e-01, -2.44860056e+00, -4.95691432e-01,\n",
              "        2.00093046e+00,  4.56600652e-01,  9.91039932e-02,  8.44633686e-01,\n",
              "        7.87835878e-01, -7.04177769e-01,  1.21433050e+00, -4.37813758e-01,\n",
              "       -1.31598515e+00, -8.44899437e-01,  2.01963664e+00, -2.29248724e+00,\n",
              "       -2.15320713e-01,  2.15959670e-01,  1.72266334e-01,  3.47368529e-01,\n",
              "       -2.06960004e+00, -4.54583020e-01,  3.85238186e-01, -1.43191112e-01,\n",
              "       -2.03485121e+00, -1.23633972e+00,  1.04399783e+00,  8.31208827e-01,\n",
              "        2.46330212e+00, -8.83069596e-01,  6.89826656e-02, -9.55745355e-01,\n",
              "       -1.19203975e+00,  2.25338970e-01, -2.26706889e-01, -4.85997209e-01,\n",
              "        1.05242659e+00, -1.17949344e+00,  3.70287813e-02, -9.39263895e-01,\n",
              "       -1.11956008e+00, -2.01955782e+00,  6.88847967e-01,  4.71643720e-02,\n",
              "        2.54181956e+00,  1.09501322e+00,  9.09507852e-01, -9.23784394e-02,\n",
              "       -4.92295683e-02, -2.02185343e-01,  9.20242248e-01,  3.97739841e-01,\n",
              "        3.77925470e-01,  5.28548540e-01,  1.88218100e-01, -5.08629827e-01,\n",
              "       -3.15377417e-01, -1.91192713e-01, -1.27281905e+00, -5.80149398e-01,\n",
              "       -1.46763253e+00, -1.04883407e+00, -1.02632594e+00,  3.99160288e-01,\n",
              "        3.93959085e-01,  1.90702872e+00, -4.05789044e-01,  2.75795862e-01,\n",
              "        5.78777866e-01,  4.18519647e-02, -1.41617823e+00, -9.01690237e-01,\n",
              "       -1.80768670e+00, -1.93911060e-01, -3.36319493e-01,  1.01876135e+00,\n",
              "       -1.13765507e+00,  2.05174577e+00, -3.37841495e-03, -8.15511760e-01,\n",
              "       -6.12979859e-01,  2.60415672e+00, -2.04189790e-01,  5.06950069e-01,\n",
              "       -5.05555031e-01, -6.40425566e-01,  7.74498168e-01, -6.73301250e-01,\n",
              "        1.17958676e-01, -1.25984162e+00, -6.73810420e-01,  1.12352147e-01,\n",
              "        5.04078698e-03,  1.09578465e+00,  2.83780804e+00,  1.05808495e+00,\n",
              "       -4.58936957e-01, -1.14671924e+00,  5.47295422e-01,  9.13133376e-01,\n",
              "        1.11739351e+00, -7.03689688e-01,  5.86387920e-03, -8.78700579e-01,\n",
              "       -2.23223518e+00, -1.53912703e-01,  1.16569183e+00, -1.11194114e+00,\n",
              "        1.08624124e+00,  1.25555074e+00,  5.44804492e-01,  8.07711597e-01,\n",
              "        3.08781500e-01,  3.78451049e-01, -5.33185015e-01,  4.42448836e-01,\n",
              "       -9.72664052e-01, -2.50808870e-01,  1.79525151e-01,  7.84424059e-01,\n",
              "        9.27366412e-01,  3.54583350e-02, -7.22758263e-01,  1.27414384e+00,\n",
              "        6.11251901e-01,  8.05076412e-02, -1.06110574e+00,  6.01421082e-01,\n",
              "        3.17438356e-01, -5.24454676e-01, -5.12649075e-01,  1.35465527e+00,\n",
              "       -4.44477120e-01, -1.59913279e-01, -2.00068876e-01, -1.07346900e-01,\n",
              "        5.32845705e-01, -4.65914631e-01, -1.85988089e-01, -3.61674996e-01,\n",
              "       -2.46263766e+00,  1.49307914e+00,  6.18938750e-01,  6.50405262e-03,\n",
              "        1.65014783e+00,  6.22420470e-01, -1.18481362e+00,  1.92979019e+00,\n",
              "        2.56534166e-01,  2.91455162e-01, -2.44301990e+00,  9.51591707e-01,\n",
              "       -3.34014294e-01, -5.73764149e-01,  6.90017290e-01,  7.73630215e-02,\n",
              "        3.52398663e-02,  1.36962023e+00,  2.35852066e-01,  1.05689527e+00,\n",
              "        2.32486220e+00, -1.92709352e+00, -2.68915625e+00,  1.69611935e+00,\n",
              "        8.01144302e-01,  7.71007647e-02, -1.99729448e+00,  1.83404173e+00,\n",
              "        1.56121903e-02, -1.84281126e-01,  1.53771887e+00,  1.95110995e+00,\n",
              "        9.20689878e-01, -1.04188172e+00, -5.27226274e-01, -1.69771916e-01,\n",
              "        6.03250409e-01, -1.97521688e+00, -2.53411556e-01,  1.93047548e+00,\n",
              "       -3.00309038e-01, -1.33359242e+00,  1.38531905e-01,  1.06365300e+00,\n",
              "        6.32000497e-02, -1.05424079e+00,  1.09729130e+00,  9.94905929e-01,\n",
              "       -9.16430174e-01, -2.51256802e+00, -7.92034931e-01,  2.74364105e-01,\n",
              "        1.08153868e+00,  6.95695196e-01, -2.59449967e-01, -1.66116173e+00,\n",
              "       -1.07769606e+00, -6.83849703e-01, -3.22012292e-01, -1.84988657e-01,\n",
              "       -4.02229111e-01, -6.98573534e-01,  2.09982974e-01, -1.47760305e+00,\n",
              "        4.20200509e-01,  2.58079681e-01, -7.43321820e-01, -2.18354507e+00,\n",
              "       -1.08819924e+00, -1.73548772e+00,  3.33728748e-01,  7.72718738e-01,\n",
              "        7.36815294e-01, -1.09238290e-01,  2.74401360e-01,  1.72890188e+00,\n",
              "        8.81218681e-01, -1.32733276e+00, -6.96697273e-01,  1.63588326e+00,\n",
              "        1.03253200e+00, -7.73515690e-01,  8.50850720e-01, -2.05407971e-01,\n",
              "       -9.38928589e-01, -1.69790838e-02,  2.41578523e-01, -3.83370912e-01,\n",
              "       -2.13167278e-01,  1.26684947e+00,  1.55668095e-01,  9.20711370e-01,\n",
              "       -1.09317550e-01,  9.02973566e-01, -6.27451987e-01, -3.95893692e-01,\n",
              "        7.97477953e-02,  3.54502744e-01, -9.98334948e-01, -2.00935526e+00,\n",
              "       -9.14346906e-01,  6.09006912e-01, -1.22093517e+00, -8.30001401e-01,\n",
              "        7.40449383e-01, -2.51265387e-01,  1.89172465e-01, -7.77058868e-01,\n",
              "       -1.75757283e+00,  5.81426125e-01, -1.66182271e+00, -8.07501374e-01,\n",
              "        8.20531962e-01,  2.90648337e-01,  1.55794963e+00,  4.41905859e-01,\n",
              "        1.08999751e+00,  1.54705113e+00,  1.06677307e+00, -1.42287457e+00,\n",
              "       -1.10071920e+00,  1.96668389e+00,  1.76719798e-01,  5.77871916e-01,\n",
              "       -2.39916920e-01, -9.43689559e-01,  1.15609437e-02, -4.11786046e-01,\n",
              "        1.00178617e+00, -9.76063834e-02,  6.76540543e-01,  4.65674754e-01,\n",
              "        2.10306796e-01,  1.26607294e+00,  1.19968173e+00,  1.19833824e-01,\n",
              "        3.03726851e-01,  1.66059617e+00,  6.55932625e-01, -4.54187116e-01,\n",
              "        5.02627835e-02,  3.06160468e-01,  5.20795816e-01,  3.49706539e-02,\n",
              "       -2.50354634e-01, -4.53822537e-01, -1.98276851e+00, -6.67585075e-01,\n",
              "        2.08901066e-01, -7.01442317e-01,  3.76314977e-01,  3.76551489e-02,\n",
              "        4.26079523e-01,  9.35874871e-01, -1.01127577e+00, -6.04719247e-01,\n",
              "       -1.02665453e+00,  3.43340150e-01, -7.37951711e-01, -1.00367894e-01,\n",
              "        9.82269705e-02,  6.70437781e-01,  2.04470694e-04,  6.94208212e-02,\n",
              "        2.73190337e-01, -9.74982002e-01,  4.91111006e-01, -1.08796119e+00,\n",
              "        4.30125917e-01, -1.40527788e+00, -5.83480741e-01, -6.30523728e-01,\n",
              "        9.24074935e-01, -2.22984592e+00, -2.15917248e+00, -4.42531410e-02,\n",
              "        8.50683965e-01,  4.22416932e-01, -3.54376264e-02, -2.52437683e-01,\n",
              "        2.74286484e-01, -3.24178211e-01,  1.43388544e+00, -6.95466414e-01,\n",
              "       -1.31495973e+00, -4.60394650e-01, -1.51617057e-01, -8.58298304e-01,\n",
              "       -4.65408354e-01,  5.83725877e-02, -7.10092362e-01, -1.63769944e+00,\n",
              "       -1.10791584e+00, -2.39956413e+00,  1.16960632e+00, -6.92624544e-01,\n",
              "       -6.16793905e-01,  5.84004775e-01, -5.69710210e-01, -1.36502383e+00,\n",
              "       -1.12609765e-01, -3.39790921e-01, -7.77567870e-01,  1.46032714e-01,\n",
              "       -9.94133342e-01, -8.34627212e-02,  2.12601395e+00, -4.13824127e-01,\n",
              "       -1.91166016e+00,  9.60476692e-01, -1.31667177e+00,  1.88236378e-02,\n",
              "       -1.47679722e+00, -9.95301459e-01, -1.57523857e+00,  1.68951492e+00,\n",
              "       -6.84831805e-01,  1.33630247e+00,  1.57029215e+00, -3.66690973e-01,\n",
              "       -1.53842132e+00,  1.34979574e-01, -8.16285299e-01,  9.72813419e-01,\n",
              "       -8.27034659e-01, -5.22891422e-01, -1.01049695e+00, -9.36808822e-01,\n",
              "       -2.68757959e-02, -6.02386485e-01,  8.40819129e-01,  1.18616856e-01,\n",
              "        1.85297142e-01, -5.07597920e-01,  1.48251712e-01,  2.79190929e-01,\n",
              "       -1.24188343e+00,  9.43159770e-01, -6.27191771e-01,  2.89573547e+00,\n",
              "       -1.32685650e+00,  2.53334391e-01, -1.35871777e+00,  7.79939750e-01,\n",
              "        2.20393469e-01,  1.02427759e+00,  7.40111777e-01, -5.11708931e-01,\n",
              "        7.90337989e-01, -9.39847984e-01,  8.57204652e-01,  6.94865789e-01,\n",
              "       -5.02796933e-01,  1.48090713e+00,  3.75060545e-01, -1.02994077e+00,\n",
              "       -2.15846473e+00, -1.94049212e+00, -2.13184157e+00,  2.27845585e-01,\n",
              "       -5.30839406e-01, -3.04486546e-01,  5.38480734e-01,  2.90576912e-01,\n",
              "        6.85294197e-01,  3.97397396e-01,  6.11837539e-01,  5.69394635e-01,\n",
              "        1.51886435e+00, -2.65676413e-01, -7.95699933e-01,  1.00150221e+00,\n",
              "       -4.84990652e-01,  8.37303616e-01,  1.31806308e+00, -7.00429318e-01,\n",
              "       -7.81608924e-01, -6.45983138e-01,  6.17549117e-01,  4.29309115e-01,\n",
              "       -3.72045607e-01, -7.36981275e-01, -7.69861735e-01,  5.05948168e-01,\n",
              "       -8.62745795e-01,  5.81402911e-01,  9.40822804e-01,  1.10012428e-01,\n",
              "       -2.24412294e-02, -5.91359008e-01,  3.51802503e-01,  7.23900591e-01,\n",
              "       -1.59648225e+00,  2.84843318e+00,  1.36778383e-01, -4.51389865e-01,\n",
              "        1.65017305e-02, -1.15827790e-01,  1.50032128e+00,  1.04663432e-01,\n",
              "        2.08097416e-01, -6.15457915e-01, -1.55747861e+00, -7.94581424e-01,\n",
              "        7.77696324e-01,  6.54474939e-01, -6.49260181e-01,  1.28459182e+00,\n",
              "        1.86445149e-01,  2.28009159e-01, -2.63264440e+00,  3.10285335e-01,\n",
              "        1.13978374e+00,  1.90138529e-01, -1.98756224e-01, -4.20484424e-01,\n",
              "       -2.67124666e-01, -5.46584337e-01,  1.37602832e-01, -1.02957151e+00,\n",
              "        4.36551263e-01,  4.63199085e-01,  1.65521291e+00, -6.06686038e-01,\n",
              "        1.35519955e+00,  2.37636242e-01, -2.08509111e+00, -8.86629793e-01,\n",
              "        9.65520032e-01,  1.36567322e+00, -1.54263384e+00,  1.39628424e+00,\n",
              "        2.34498666e-02, -1.40449469e+00, -9.95288326e-01, -5.36409446e-03,\n",
              "       -1.83722383e+00,  1.18382769e+00, -2.08198889e+00,  1.60651994e+00,\n",
              "        4.80076008e-02, -2.07153872e+00,  5.93755210e-01,  5.47057795e-01,\n",
              "       -9.44343186e-02, -7.89193749e-01, -9.08129129e-01,  5.66149780e-01,\n",
              "       -3.70266456e-01,  4.31655270e-01,  1.47594252e+00, -1.30621944e+00,\n",
              "        1.11416703e+00,  4.81662843e-01, -4.97839786e-02, -2.12127681e+00,\n",
              "        1.19276774e+00,  1.31804647e+00, -8.34158660e-01,  2.27449974e-02,\n",
              "       -1.05172408e+00,  4.49866392e-01, -2.97072194e-01, -1.26819129e+00,\n",
              "        5.87785336e-01,  1.15951492e+00,  3.33868970e-01, -1.60096425e+00,\n",
              "       -4.73983524e-01, -1.13850124e+00, -1.53009695e+00, -5.22543248e-01,\n",
              "       -4.74021793e-01,  3.36686859e-01,  2.52342435e-01, -3.39369162e-03,\n",
              "       -1.82672990e+00, -2.47939845e-01,  1.59763737e+00,  1.00994754e+00,\n",
              "       -9.56419928e-01, -1.77361076e+00,  8.97700597e-01, -1.44879940e+00,\n",
              "       -1.06213001e+00,  4.86782348e-01, -1.43919144e+00,  2.77254595e+00,\n",
              "       -1.52671076e+00, -2.55649948e-01, -2.90637667e-02, -1.97186271e-01,\n",
              "       -1.58322269e-01,  2.88676025e+00,  8.33046027e-02, -6.36045889e-01,\n",
              "        3.37579240e-01,  1.65858820e+00,  5.63579149e-01, -1.16489779e+00,\n",
              "        4.76539190e-01,  4.67368712e-01,  6.31404877e-01,  3.62862266e-01,\n",
              "       -4.01708879e-01, -1.37696118e+00, -2.81315254e-01,  2.43191572e+00,\n",
              "        4.96611150e-01,  2.02058034e+00,  2.43775993e-01,  7.80661421e-01,\n",
              "        1.31130738e+00, -1.61244276e-01,  1.07909115e-01,  6.99827117e-01,\n",
              "        5.07705422e-01,  4.87580099e-01, -1.94771761e+00, -9.57668568e-01,\n",
              "        4.54289879e-01,  9.57178014e-01, -1.29564445e+00, -9.09504250e-01,\n",
              "       -2.51760277e-02,  5.86834259e-01, -3.12549044e-01,  5.08313718e-01,\n",
              "        1.15363590e+00, -1.58559289e-01,  1.71978769e+00,  8.16608563e-01,\n",
              "        2.68213729e+00, -3.21884594e-01,  9.06503339e-01, -1.25531413e-02,\n",
              "       -2.80668827e-01, -5.29893375e-01,  6.94993337e-01,  1.04374297e+00])"
            ]
          },
          "metadata": {
            "tags": []
          },
          "execution_count": 34
        }
      ]
    },
    {
      "cell_type": "code",
      "metadata": {
        "colab": {
          "base_uri": "https://localhost:8080/"
        },
        "id": "ap1Wyu54LJ85",
        "outputId": "b91fea18-bd66-46ba-ba40-aabac147c820"
      },
      "source": [
        "class ProjectTwo:\n",
        "    def __init__(self, data):\n",
        "        self.data = data\n",
        "        self.mean = np.mean(data)\n",
        "        self.med = np.median(data)\n",
        "        self.mode = stats.mode(data)[0][0]\n",
        "        self.max = np.max(data)\n",
        "        self.min = np.min(data)\n",
        "\n",
        "    def hist(self):\n",
        "        sns.histplot(self.data)\n",
        "\n",
        "    def dist(self):\n",
        "        sns.distplot(self.data)\n",
        "    \n",
        "    def quantile(self, x):\n",
        "        return np.quantile(self.data, x)\n",
        "\n",
        "    def qq_plot(self):\n",
        "        sm.qqplot(self.data,line=\"45\")\n",
        "\n",
        "\n",
        "PJ2 = ProjectTwo(data)\n",
        "PJ2.mean\n",
        "PJ2.med"
      ],
      "execution_count": 39,
      "outputs": [
        {
          "output_type": "execute_result",
          "data": {
            "text/plain": [
              "0.013586567002434245"
            ]
          },
          "metadata": {
            "tags": []
          },
          "execution_count": 39
        }
      ]
    },
    {
      "cell_type": "code",
      "metadata": {
        "colab": {
          "base_uri": "https://localhost:8080/",
          "height": 265
        },
        "id": "m2v2ULFAQEgA",
        "outputId": "03159ca7-1e8f-4c19-bc70-9d4d690f67ba"
      },
      "source": [
        "PJ2.hist()"
      ],
      "execution_count": 38,
      "outputs": [
        {
          "output_type": "display_data",
          "data": {
            "image/png": "[encoded data removed]",
            "text/plain": [
              "<Figure size 432x288 with 1 Axes>"
            ]
          },
          "metadata": {
            "tags": [],
            "needs_background": "light"
          }
        }
      ]
    },
    {
      "cell_type": "code",
      "metadata": {
        "colab": {
          "base_uri": "https://localhost:8080/",
          "height": 319
        },
        "id": "phu3ZsyWjgsy",
        "outputId": "c5620763-27a5-4471-95f6-01304a8bd8b6"
      },
      "source": [
        "PJ2.dist()\n"
      ],
      "execution_count": 40,
      "outputs": [
        {
          "output_type": "stream",
          "text": [
            "/usr/local/lib/python3.7/dist-packages/seaborn/distributions.py:2557: FutureWarning: `distplot` is a deprecated function and will be removed in a future version. Please adapt your code to use either `displot` (a figure-level function with similar flexibility) or `histplot` (an axes-level function for histograms).\n",
            "  warnings.warn(msg, FutureWarning)\n"
          ],
          "name": "stderr"
        },
        {
          "output_type": "display_data",
          "data": {
            "image/png": "[encoded data removed]",
            "text/plain": [
              "<Figure size 432x288 with 1 Axes>"
            ]
          },
          "metadata": {
            "tags": [],
            "needs_background": "light"
          }
        }
      ]
    },
    {
      "cell_type": "code",
      "metadata": {
        "colab": {
          "base_uri": "https://localhost:8080/",
          "height": 279
        },
        "id": "SxFHY7kUjlPJ",
        "outputId": "9ca0b96c-4d0d-4c5d-80fd-c36acfbc2cb6"
      },
      "source": [
        "PJ2.qq_plot()"
      ],
      "execution_count": 44,
      "outputs": [
        {
          "output_type": "display_data",
          "data": {
            "image/png": "[encoded data removed]",
            "text/plain": [
              "<Figure size 432x288 with 1 Axes>"
            ]
          },
          "metadata": {
            "tags": [],
            "needs_background": "light"
          }
        }
      ]
    }
  ]
}